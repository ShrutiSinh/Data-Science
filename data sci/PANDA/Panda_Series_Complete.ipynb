{
 "cells": [
  {
   "cell_type": "markdown",
   "id": "6217c196",
   "metadata": {},
   "source": [
    "# PANDAS\n"
   ]
  },
  {
   "cell_type": "markdown",
   "id": "8b497bb1",
   "metadata": {},
   "source": [
    "## SERIES"
   ]
  },
  {
   "cell_type": "code",
   "execution_count": 1,
   "id": "6becc24b",
   "metadata": {},
   "outputs": [],
   "source": [
    "import pandas as pd\n",
    "import numpy as np"
   ]
  },
  {
   "cell_type": "markdown",
   "id": "29e89741",
   "metadata": {},
   "source": [
    "working with series in pandas:"
   ]
  },
  {
   "cell_type": "code",
   "execution_count": 2,
   "id": "47d2980b",
   "metadata": {},
   "outputs": [
    {
     "name": "stdout",
     "output_type": "stream",
     "text": [
      "0    1\n",
      "1    2\n",
      "2    3\n",
      "3    4\n",
      "4    5\n",
      "dtype: int64\n",
      "a    1\n",
      "b    2\n",
      "c    3\n",
      "dtype: int64\n"
     ]
    }
   ],
   "source": [
    "a = pd.Series([1,2,3,4,5])\n",
    "print(a)\n",
    "\n",
    "b = pd.Series([1,2,3],index=['a','b','c'])\n",
    "print(b)"
   ]
  },
  {
   "cell_type": "markdown",
   "id": "a846b1ea",
   "metadata": {},
   "source": [
    "# Numpy array in Pandas Series"
   ]
  },
  {
   "cell_type": "code",
   "execution_count": 3,
   "id": "597aa4be",
   "metadata": {},
   "outputs": [
    {
     "name": "stdout",
     "output_type": "stream",
     "text": [
      "0    1\n",
      "1    2\n",
      "2    3\n",
      "3    4\n",
      "4    5\n",
      "dtype: int64\n"
     ]
    }
   ],
   "source": [
    "ar = np.array([1,2,3,4,5])\n",
    "aa = pd.Series(ar)\n",
    "print(a)"
   ]
  },
  {
   "cell_type": "markdown",
   "id": "04f37020",
   "metadata": {},
   "source": [
    "## Passing list(hetrogeneous) directly into Panda series"
   ]
  },
  {
   "cell_type": "code",
   "execution_count": 4,
   "id": "7869037b",
   "metadata": {},
   "outputs": [
    {
     "name": "stdout",
     "output_type": "stream",
     "text": [
      "0       1\n",
      "1    name\n",
      "2       2\n",
      "3       3\n",
      "dtype: object\n"
     ]
    }
   ],
   "source": [
    "lists = [1,'name',2,3]\n",
    "sili = pd.Series(lists)\n",
    "print(sili)"
   ]
  },
  {
   "cell_type": "markdown",
   "id": "b419db0f",
   "metadata": {},
   "source": [
    "## #passing dictionry into panda series (works according to value) "
   ]
  },
  {
   "cell_type": "code",
   "execution_count": 5,
   "id": "3be512a2",
   "metadata": {},
   "outputs": [
    {
     "name": "stdout",
     "output_type": "stream",
     "text": [
      "1    a\n",
      "2    b\n",
      "dtype: object\n",
      "a    1\n",
      "b    2\n",
      "dtype: int64\n",
      "a    1.0\n",
      "b    2.0\n",
      "dtype: float64\n"
     ]
    }
   ],
   "source": [
    "d={1:'a',2:'b'}\n",
    "ac = pd.Series(d)\n",
    "print(ac)\n",
    "\n",
    "dic={'a':1,'b':2}\n",
    "ad = pd.Series(dic)\n",
    "print(ad)\n",
    "\n",
    "d1={'a':1.0,'b':2.0}\n",
    "ax = pd.Series(d1)\n",
    "print(ax)\n",
    "\n"
   ]
  },
  {
   "cell_type": "markdown",
   "id": "f998e2a9",
   "metadata": {},
   "source": [
    "## Range in Pandas"
   ]
  },
  {
   "cell_type": "code",
   "execution_count": 6,
   "id": "74c0eeb2",
   "metadata": {},
   "outputs": [
    {
     "name": "stdout",
     "output_type": "stream",
     "text": [
      "1    15\n",
      "3    15\n",
      "5    15\n",
      "7    15\n",
      "9    15\n",
      "dtype: int64\n",
      "1    1\n",
      "3    2\n",
      "5    3\n",
      "7    4\n",
      "9    5\n",
      "dtype: int64\n"
     ]
    }
   ],
   "source": [
    "aq = pd.Series(15,index=range(1,10,2))\n",
    "print(aq)\n",
    "\n",
    "av = pd.Series(range(1,6),index=range(1,10,2))\n",
    "print(av)"
   ]
  },
  {
   "cell_type": "markdown",
   "id": "433d896d",
   "metadata": {},
   "source": [
    "# QUESTIONS"
   ]
  },
  {
   "cell_type": "markdown",
   "id": "197085ea",
   "metadata": {},
   "source": [
    "## Abhi invest their time in learning mars paradox based on the week days. Print the series according to the terminology."
   ]
  },
  {
   "cell_type": "code",
   "execution_count": null,
   "id": "64f9b6a9",
   "metadata": {},
   "outputs": [],
   "source": [
    "li = ['1 Hrs','1 Hrs','1 Hrs','1 Hrs','1 Hrs','1 Hrs']\n",
    "for i in range(0,6):\n",
    "    hour = input('Enter the Hours you spent\\n formate==1 Hrs:')\n",
    "    li[i] = hour\n",
    "    i = i+1\n",
    "    \n",
    "Days = ['Monday','Tuesday','Wednesday','Thursday','Friday','Saturday']\n",
    "abhi = pd.Series(li,index=Days)\n",
    "print('Time invested by abhi on learning mars paradox\\n',abhi)\n"
   ]
  },
  {
   "cell_type": "markdown",
   "id": "d5990bdb",
   "metadata": {},
   "source": [
    "# CHALLENGE QUESTION"
   ]
  },
  {
   "cell_type": "markdown",
   "id": "41958ade",
   "metadata": {},
   "source": [
    "## Print the series of difference of 7 with in the range taken from user and indexing is based the (series+3+3) of above series. "
   ]
  },
  {
   "cell_type": "code",
   "execution_count": null,
   "id": "8b1df83d",
   "metadata": {},
   "outputs": [],
   "source": [
    "n=int(input('r'))\n",
    "nn=int(input('rr'))\n",
    "ac = pd.Series(range(n+3,nn+3,7),index=range(n,nn,7))\n",
    "print(ac)\n"
   ]
  }
 ],
 "metadata": {
  "kernelspec": {
   "display_name": "Python 3 (ipykernel)",
   "language": "python",
   "name": "python3"
  },
  "language_info": {
   "codemirror_mode": {
    "name": "ipython",
    "version": 3
   },
   "file_extension": ".py",
   "mimetype": "text/x-python",
   "name": "python",
   "nbconvert_exporter": "python",
   "pygments_lexer": "ipython3",
   "version": "3.9.6"
  }
 },
 "nbformat": 4,
 "nbformat_minor": 5
}
